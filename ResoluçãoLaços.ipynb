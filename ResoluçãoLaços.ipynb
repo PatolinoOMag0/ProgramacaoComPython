{
  "nbformat": 4,
  "nbformat_minor": 0,
  "metadata": {
    "colab": {
      "provenance": [],
      "authorship_tag": "ABX9TyNZuHP0/8BbQB9rOuTnF1ae",
      "include_colab_link": true
    },
    "kernelspec": {
      "name": "python3",
      "display_name": "Python 3"
    },
    "language_info": {
      "name": "python"
    }
  },
  "cells": [
    {
      "cell_type": "markdown",
      "metadata": {
        "id": "view-in-github",
        "colab_type": "text"
      },
      "source": [
        "<a href=\"https://colab.research.google.com/github/PatolinoOMag0/ProgramacaoComPython/blob/main/Resolu%C3%A7%C3%A3oLa%C3%A7os.ipynb\" target=\"_parent\"><img src=\"https://colab.research.google.com/assets/colab-badge.svg\" alt=\"Open In Colab\"/></a>"
      ]
    },
    {
      "cell_type": "markdown",
      "source": [
        "Criar um jogo de adivinhar um número aleatório, dando dicas de maior ou menor."
      ],
      "metadata": {
        "id": "V9UhA6jzS4_y"
      }
    },
    {
      "cell_type": "code",
      "source": [
        "import random\n",
        "secreto = random.randint(1, 100)\n",
        "resp = 0\n",
        "x = 0\n",
        "while resp != secreto:\n",
        "  resp = int(input(\"Adivinhe um número aleatório entre 1 e 100! \"))\n",
        "  if resp <= 0 or resp > 100:\n",
        "    print(\"Esse número está fora do padrão \")\n",
        "    continue\n",
        "  if resp > secreto:\n",
        "    print(\"Muito alto\")\n",
        "    chute = resp - secreto\n",
        "    if chute <= 5:\n",
        "      print(\"Diferença de 5!\")\n",
        "    elif chute >5 and chute <= 10:\n",
        "      print(\"Diferença entre 5 e 10\")\n",
        "    elif chute >10 and chute <= 15:\n",
        "      print(\"Diferença entre 10 e 15\")\n",
        "    elif chute >15:\n",
        "      print(\"Diferença maior de 15\")\n",
        "  if resp < secreto:\n",
        "    print(\"Muito baixo\")\n",
        "    chute = secreto - resp\n",
        "    if chute <= 5:\n",
        "      print(\"Diferença de 5!\")\n",
        "    elif chute >5 and chute <= 10:\n",
        "      print(\"Diferença entre 5 e 10\")\n",
        "    elif chute >10 and chute <= 15:\n",
        "      print(\"Diferença entre 10 e 15\")\n",
        "    elif chute >15:\n",
        "      print(\"Diferença maior de 15\")\n",
        "  if resp == secreto:\n",
        "    print(\"Parabéns, você descobriu o número secreto!\" ,secreto,)"
      ],
      "metadata": {
        "colab": {
          "base_uri": "https://localhost:8080/"
        },
        "id": "goi8Te_nTFns",
        "outputId": "74a9eec2-3aac-4f04-d769-9fcd6beebe7b"
      },
      "execution_count": 1,
      "outputs": [
        {
          "output_type": "stream",
          "name": "stdout",
          "text": [
            "Adivinhe um número aleatório entre 1 e 100! 40\n",
            "Muito alto\n",
            "Diferença maior de 15\n",
            "Adivinhe um número aleatório entre 1 e 100! 20\n",
            "Muito alto\n",
            "Diferença de 5!\n",
            "Adivinhe um número aleatório entre 1 e 100! 12\n",
            "Muito baixo\n",
            "Diferença de 5!\n",
            "Adivinhe um número aleatório entre 1 e 100! 14\n",
            "Muito baixo\n",
            "Diferença de 5!\n",
            "Adivinhe um número aleatório entre 1 e 100! 15\n",
            "Muito baixo\n",
            "Diferença de 5!\n",
            "Adivinhe um número aleatório entre 1 e 100! 17\n",
            "Parabéns, você descobriu o número secreto! 17\n"
          ]
        }
      ]
    },
    {
      "cell_type": "markdown",
      "source": [
        "segunda atividade"
      ],
      "metadata": {
        "id": "ESI-Mietpk97"
      }
    },
    {
      "cell_type": "code",
      "source": [
        "cond = Truetotal = 0\n",
        "print(\"Você pode comprar a vontade, quando terminar, digite 0\")\n",
        "while cond == True:\n",
        "  preco = float(input(\"Digite o valor da compra\"))\n",
        "  if preco == 0:\n",
        "    break\n",
        "  total = total + preco\n",
        "\n",
        "pag = int(print(\"Qual a forma de pagamento?\"))\n",
        "print(\"Digite 1 para a vista\")\n",
        "print(\"Digite 2 para cartão\")\n",
        "print(\"Digite 3 para pix\")\n",
        "\n",
        "if pag == 1:\n",
        "  total = total*0.95\n",
        "  print(\"O valor a ser pago será de\" ,total)\n",
        "else:\n",
        "  print(total)"
      ],
      "metadata": {
        "colab": {
          "base_uri": "https://localhost:8080/",
          "height": 245
        },
        "id": "Pg8kFtlipn9e",
        "outputId": "f181bb75-f957-43a0-e8f2-12f500f874ea"
      },
      "execution_count": null,
      "outputs": [
        {
          "output_type": "stream",
          "name": "stdout",
          "text": [
            "Você pode comprar a vontade, quando terminar, digite 0\n",
            "Qual a forma de pagamento?\n"
          ]
        },
        {
          "output_type": "error",
          "ename": "TypeError",
          "evalue": "int() argument must be a string, a bytes-like object or a real number, not 'NoneType'",
          "traceback": [
            "\u001b[0;31m---------------------------------------------------------------------------\u001b[0m",
            "\u001b[0;31mTypeError\u001b[0m                                 Traceback (most recent call last)",
            "\u001b[0;32m<ipython-input-137-e12d0eeed71d>\u001b[0m in \u001b[0;36m<cell line: 9>\u001b[0;34m()\u001b[0m\n\u001b[1;32m      7\u001b[0m   \u001b[0mtotal\u001b[0m \u001b[0;34m=\u001b[0m \u001b[0mtotal\u001b[0m \u001b[0;34m+\u001b[0m \u001b[0mpreco\u001b[0m\u001b[0;34m\u001b[0m\u001b[0;34m\u001b[0m\u001b[0m\n\u001b[1;32m      8\u001b[0m \u001b[0;34m\u001b[0m\u001b[0m\n\u001b[0;32m----> 9\u001b[0;31m \u001b[0mpag\u001b[0m \u001b[0;34m=\u001b[0m \u001b[0mint\u001b[0m\u001b[0;34m(\u001b[0m\u001b[0mprint\u001b[0m\u001b[0;34m(\u001b[0m\u001b[0;34m\"Qual a forma de pagamento?\"\u001b[0m\u001b[0;34m)\u001b[0m\u001b[0;34m)\u001b[0m\u001b[0;34m\u001b[0m\u001b[0;34m\u001b[0m\u001b[0m\n\u001b[0m\u001b[1;32m     10\u001b[0m \u001b[0mprint\u001b[0m\u001b[0;34m(\u001b[0m\u001b[0;34m\"Digite 1 para a vista\"\u001b[0m\u001b[0;34m)\u001b[0m\u001b[0;34m\u001b[0m\u001b[0;34m\u001b[0m\u001b[0m\n\u001b[1;32m     11\u001b[0m \u001b[0mprint\u001b[0m\u001b[0;34m(\u001b[0m\u001b[0;34m\"Digite 2 para cartão\"\u001b[0m\u001b[0;34m)\u001b[0m\u001b[0;34m\u001b[0m\u001b[0;34m\u001b[0m\u001b[0m\n",
            "\u001b[0;31mTypeError\u001b[0m: int() argument must be a string, a bytes-like object or a real number, not 'NoneType'"
          ]
        }
      ]
    }
  ]
}